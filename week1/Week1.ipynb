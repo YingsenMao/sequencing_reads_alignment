{
 "cells": [
  {
   "cell_type": "markdown",
   "metadata": {},
   "source": [
    "Week1 teaches:\n",
    "1. how to read the reference genome fa file with line starting # as header\n",
    "2. how to read the sequencing reads fastq file with four lines for each read\n",
    "3. how to count the frequencies of each base in sequencing reads\n",
    "4. how to make the alignment of reads from fastq file back to its reference genome fa file"
   ]
  },
  {
   "cell_type": "markdown",
   "metadata": {},
   "source": [
    "文件：https://d28rh4a8wq0iu5.cloudfront.net/ads1/data/lambda_virus.fa"
   ]
  },
  {
   "cell_type": "code",
   "execution_count": 4,
   "metadata": {},
   "outputs": [
    {
     "data": {
      "text/plain": [
       "'GGGCGGCGACCTCGCGGGTTTTCGCTATTTATGAAAATTTTCCGGTTTAA'"
      ]
     },
     "execution_count": 4,
     "metadata": {},
     "output_type": "execute_result"
    }
   ],
   "source": [
    "def readGenome(filename):\n",
    "    '''\n",
    "    Reads the reference genome\n",
    "    '''\n",
    "    genome=''\n",
    "    with open(filename,'r') as f:\n",
    "        for line in f:\n",
    "            if not line[0] == '>':\n",
    "                genome += line.rstrip()\n",
    "    return genome\n",
    "\n",
    "genome = readGenome('lambda_virus.fa')\n",
    "\n",
    "genome[:50]                "
   ]
  },
  {
   "cell_type": "markdown",
   "metadata": {},
   "source": [
    "#### 1. count the frequencies of each base"
   ]
  },
  {
   "cell_type": "code",
   "execution_count": 6,
   "metadata": {},
   "outputs": [
    {
     "name": "stdout",
     "output_type": "stream",
     "text": [
      "{'G': 12820, 'C': 11362, 'A': 12334, 'T': 11986}\n"
     ]
    }
   ],
   "source": [
    "def frequencyCount(ge):\n",
    "    dt = {}\n",
    "    for i in ge:\n",
    "        if i not in dt:\n",
    "            dt[i] = 1\n",
    "        else:\n",
    "            dt[i] = dt[i] + 1\n",
    "    print(dt)\n",
    "\n",
    "frequencyCount(genome)"
   ]
  },
  {
   "cell_type": "code",
   "execution_count": 7,
   "metadata": {},
   "outputs": [
    {
     "data": {
      "text/plain": [
       "Counter({'G': 12820, 'C': 11362, 'A': 12334, 'T': 11986})"
      ]
     },
     "execution_count": 7,
     "metadata": {},
     "output_type": "execute_result"
    }
   ],
   "source": [
    "import collections\n",
    "collections.Counter(genome)"
   ]
  },
  {
   "cell_type": "markdown",
   "metadata": {},
   "source": [
    "https://d28rh4a8wq0iu5.cloudfront.net/ads1/data/SRR835775_1.first1000.fastq"
   ]
  },
  {
   "cell_type": "code",
   "execution_count": 8,
   "metadata": {},
   "outputs": [],
   "source": [
    "def readFastq(filename):\n",
    "    sequences = []\n",
    "    qualities = []\n",
    "    with open(filename) as fh:\n",
    "        while True:\n",
    "            fh.readline()\n",
    "            seq = fh.readline().rstrip()\n",
    "            fh.readline()\n",
    "            qual = fh.readline().rstrip()\n",
    "            if len(seq) == 0:\n",
    "                break\n",
    "            sequences.append(seq)\n",
    "            qualities.append(qual)\n",
    "    return sequences, qualities\n",
    "\n",
    "seq, qua = readFastq('SRR835775_1.first1000.fastq')"
   ]
  },
  {
   "cell_type": "code",
   "execution_count": 10,
   "metadata": {},
   "outputs": [
    {
     "data": {
      "text/plain": [
       "['TAACCCTAACCCTAACCCTAACCCTAACCCTAACCCTAACCCTAACCCTAACCCTCACCCTAACCCTAACCCTAACCGTATCCGTCACCCTAACCCTAAC',\n",
       " 'TAACCCTAACCCTAACCCTAACCCTAACCCTAACCCTAACCCTAACCCTAACCCTACCCTAACCCTAACCCTAACCCTAACCCTAACCCTAACCCTAACC',\n",
       " 'TAGGGTTAGGGTTAGGGTTAGGGTTAGGGTTAGGGTTAGGGTTAGGGTTAGGGTTAGGGTTAGGGTTAGGGTTAGGGTTAGGGTTAGGGTTAGGGTTAGG',\n",
       " 'TAGGGTTAGGGTTAGGGTTAGGGTTAGGGTTAGGGTTAGGGTTAGGGTTAGGGTTAGGGTTAGGGTTAAGGGTTGGGGGTTAGGGGTAGGGGTAGGGTTA',\n",
       " 'CTAACCCTAACCCTAACCCTAACCCTACCCTAACCCTAACCCTAACCCTAACCCTAACCCTAACCCTAACCCTAACCCAACCCTAACCCTAACCCTCACC']"
      ]
     },
     "execution_count": 10,
     "metadata": {},
     "output_type": "execute_result"
    }
   ],
   "source": [
    "seq[:5]"
   ]
  },
  {
   "cell_type": "code",
   "execution_count": 11,
   "metadata": {},
   "outputs": [
    {
     "data": {
      "text/plain": [
       "['???B1ADDD8??BB+C?B+:AA883CEE8?C3@DDD3)?D2;DC?8?=BAD=@C@(.6.6=A?=?@##################################',\n",
       " 'CCCFFFFFGHHGHJJJJJIJGIIJJJJJJJIJIJJJJJFJJFGIIIIH=CBFCF=CCEG)=>EHB2@@DEC>;;?=;(=?BBD?59?BA###########',\n",
       " '@@<DD?DDHHH<CBHII:CFGIGAGHIIG?CCGGE0BDHIIHIGICH8=FHGI=@EHGGGEEHH>);?CC@.;(=;?59,5<A599?CB>ABBCB><88A',\n",
       " '@CCFFDDFHHHDFHIJJCGGIJJHIIHJC?DHHIJ0?DGHI9BBFHICGGIGI=CDEGI=?AAEF7@?################################',\n",
       " '@<@FDFDDBBFHH@EBGGGEH@FFHE;EHIEGGBHG?)9?8BDGGBGGBCDGI=93=C6==C;CCD(?@>@#############################']"
      ]
     },
     "execution_count": 11,
     "metadata": {},
     "output_type": "execute_result"
    }
   ],
   "source": [
    "qua[:5]"
   ]
  },
  {
   "cell_type": "markdown",
   "metadata": {},
   "source": [
    "### 2. Draw the score distribution"
   ]
  },
  {
   "cell_type": "code",
   "execution_count": 12,
   "metadata": {},
   "outputs": [],
   "source": [
    "def phred33ToQ(i):\n",
    "    return ord(i) - 33"
   ]
  },
  {
   "cell_type": "code",
   "execution_count": 13,
   "metadata": {},
   "outputs": [
    {
     "data": {
      "text/plain": [
       "2"
      ]
     },
     "execution_count": 13,
     "metadata": {},
     "output_type": "execute_result"
    }
   ],
   "source": [
    "phred33ToQ('#')"
   ]
  },
  {
   "cell_type": "code",
   "execution_count": 15,
   "metadata": {},
   "outputs": [
    {
     "name": "stdout",
     "output_type": "stream",
     "text": [
      "[0, 0, 6178, 0, 0, 54, 108, 574, 345, 83, 193, 124, 79, 165, 49, 236, 184, 327, 514, 238, 531, 254, 313, 798, 992, 888, 1396, 1488, 993, 1752, 3387, 4487, 3248, 5476, 8375, 11814, 4243, 7827, 6579, 8179, 9349, 8180, 0, 0, 0, 0, 0, 0, 0, 0]\n"
     ]
    }
   ],
   "source": [
    "def createHist(qualities):\n",
    "    hist = [0] * 50\n",
    "    for qual in qualities:\n",
    "        for phred in qual:\n",
    "            q = phred33ToQ(phred)\n",
    "            hist[q] += 1\n",
    "    return hist\n",
    "h = createHist(qua)\n",
    "print(h)"
   ]
  },
  {
   "cell_type": "code",
   "execution_count": 16,
   "metadata": {
    "scrolled": true
   },
   "outputs": [
    {
     "data": {
      "text/plain": [
       "<BarContainer object of 50 artists>"
      ]
     },
     "execution_count": 16,
     "metadata": {},
     "output_type": "execute_result"
    },
    {
     "data": {
      "image/png": "[encoded data removed]",
      "text/plain": [
       "<Figure size 432x288 with 1 Axes>"
      ]
     },
     "metadata": {
      "needs_background": "light"
     },
     "output_type": "display_data"
    }
   ],
   "source": [
    "%matplotlib inline\n",
    "import matplotlib.pyplot as plt\n",
    "plt.bar(range(len(h)), h)"
   ]
  },
  {
   "cell_type": "code",
   "execution_count": 27,
   "metadata": {},
   "outputs": [],
   "source": [
    "def findGBByPos(reads):\n",
    "    gc = [0] * 100\n",
    "    num_reads = len(reads)\n",
    "    for r in reads:\n",
    "        for i, b in enumerate(r):\n",
    "            if b == 'G' or b == 'C':\n",
    "                gc[i] += 1\n",
    "    return gc, [r / num_reads for r in gc]\n",
    "gcContent, total_gc = findGBByPos(seq)"
   ]
  },
  {
   "cell_type": "code",
   "execution_count": 32,
   "metadata": {},
   "outputs": [
    {
     "data": {
      "text/plain": [
       "[<matplotlib.lines.Line2D at 0x14c2b5c4860>]"
      ]
     },
     "execution_count": 32,
     "metadata": {},
     "output_type": "execute_result"
    },
    {
     "data": {
      "image/png": "[encoded data removed]",
      "text/plain": [
       "<Figure size 432x288 with 1 Axes>"
      ]
     },
     "metadata": {
      "needs_background": "light"
     },
     "output_type": "display_data"
    }
   ],
   "source": [
    "plt.plot(range(len(total_gc)), total_gc)"
   ]
  },
  {
   "cell_type": "code",
   "execution_count": 36,
   "metadata": {},
   "outputs": [
    {
     "name": "stdout",
     "output_type": "stream",
     "text": [
      "Counter({'G': 28742, 'C': 28272, 'T': 21836, 'A': 21132, 'N': 18})\n"
     ]
    }
   ],
   "source": [
    "import collections\n",
    "count = collections.Counter()\n",
    "for r in seq:\n",
    "    count.update(r)\n",
    "print(count)"
   ]
  },
  {
   "cell_type": "markdown",
   "metadata": {},
   "source": [
    "#### if we have a reference genome, we can do alignment. If we don't have a reference genome, we do assembly."
   ]
  },
  {
   "cell_type": "markdown",
   "metadata": {},
   "source": [
    "## Matching"
   ]
  },
  {
   "cell_type": "markdown",
   "metadata": {},
   "source": [
    "### 1. Exact match"
   ]
  },
  {
   "cell_type": "markdown",
   "metadata": {},
   "source": [
    "#### naive algorithm - A forward (left-right) matching algorithm"
   ]
  },
  {
   "cell_type": "code",
   "execution_count": 37,
   "metadata": {},
   "outputs": [
    {
     "data": {
      "text/plain": [
       "9"
      ]
     },
     "execution_count": 37,
     "metadata": {},
     "output_type": "execute_result"
    }
   ],
   "source": [
    "pattern = 'word'\n",
    "text = 'I find a word'\n",
    "text.find(pattern)"
   ]
  },
  {
   "cell_type": "code",
   "execution_count": 44,
   "metadata": {},
   "outputs": [
    {
     "data": {
      "text/plain": [
       "[9]"
      ]
     },
     "execution_count": 44,
     "metadata": {},
     "output_type": "execute_result"
    }
   ],
   "source": [
    "p_l = len(pattern)\n",
    "t_l = len(text)\n",
    "occurence = []\n",
    "for i in range(t_l - p_l + 1):\n",
    "    match = True\n",
    "    for j in range(p_l):\n",
    "        # 如果在pattern与text对比过程中，只要发现一个mismatch即可停止对比\n",
    "        # 将match改设为 False，text对比起始点位向前移动一格\n",
    "        if pattern[j] != text[i + j]:\n",
    "            match = False\n",
    "            break\n",
    "    # 如果在pattern与text对比过程中，没有mismatch，此时match为True\n",
    "    if match:\n",
    "        occurence.append(i)\n",
    "occurence        "
   ]
  },
  {
   "cell_type": "markdown",
   "metadata": {},
   "source": [
    "https://d28rh4a8wq0iu5.cloudfront.net/ads1/data/phix.fa"
   ]
  },
  {
   "cell_type": "code",
   "execution_count": 45,
   "metadata": {},
   "outputs": [],
   "source": [
    "# read the reference genome\n",
    "genome = readGenome('phix.fa')"
   ]
  },
  {
   "cell_type": "code",
   "execution_count": 53,
   "metadata": {},
   "outputs": [],
   "source": [
    "def naive(p, t):\n",
    "    p_l = len(p)\n",
    "    t_l = len(t)\n",
    "    occurence = []\n",
    "    for i in range(t_l - p_l + 1):\n",
    "        match = True\n",
    "        for j in range(p_l):\n",
    "            # 如果在pattern与text对比过程中，只要发现一个mismatch即可停止对比\n",
    "            # 将match改设为 False，text对比起始点位向前移动一格\n",
    "            if p[j] != t[i + j]:\n",
    "                match = False\n",
    "                break\n",
    "        # 如果在pattern与text对比过程中，没有mismatch，此时match为True\n",
    "        if match:\n",
    "            occurence.append(i)\n",
    "    return occurence     "
   ]
  },
  {
   "cell_type": "code",
   "execution_count": 54,
   "metadata": {},
   "outputs": [
    {
     "data": {
      "text/plain": [
       "[0, 5, 9]"
      ]
     },
     "execution_count": 54,
     "metadata": {},
     "output_type": "execute_result"
    }
   ],
   "source": [
    "t = 'AGCTTAGATAGC'\n",
    "p = 'AG'\n",
    "naive(p, t)"
   ]
  },
  {
   "cell_type": "code",
   "execution_count": 58,
   "metadata": {},
   "outputs": [],
   "source": [
    "import random\n",
    "def generateReads(genome, numReads, readLen):\n",
    "    '''\n",
    "    This function generates artificial reads from a reference genome\n",
    "    '''\n",
    "    reads = []\n",
    "    for _ in range(numReads):\n",
    "        start = random.randint(0, len(genome)-readLen) - 1\n",
    "        reads.append(genome[start : start+readLen])\n",
    "    return reads"
   ]
  },
  {
   "cell_type": "code",
   "execution_count": 69,
   "metadata": {},
   "outputs": [
    {
     "name": "stdout",
     "output_type": "stream",
     "text": [
      "100 / 100 reads matched exactly\n"
     ]
    }
   ],
   "source": [
    "#Generates artificial reads from reference genome \n",
    "\n",
    "artificial_reads = generateReads(genome, 100, 100)\n",
    "\n",
    "numMatched = 0\n",
    "for r in artificial_reads:\n",
    "    matches = naive(r, genome)\n",
    "    if len(matches) > 0:\n",
    "        numMatched += 1\n",
    "print(\"%d / %d reads matched exactly\" % (numMatched, len(reads)))"
   ]
  },
  {
   "cell_type": "code",
   "execution_count": 60,
   "metadata": {
    "scrolled": false
   },
   "outputs": [
    {
     "data": {
      "text/plain": [
       "['TGGCACAATGCTACAATGTGCTCCCCCAACTTGATATTAATAACACTATAGACCACCGCCCCGAAGGGGACGAAAAATGGTTTTTAGAGAACGAGAAGAC',\n",
       " 'GGGTACGCAATCGCCGCCAGTTAAATAGCTTGCAAAATACGTGGCCTTATGGTTACAGTATGCCCATCGCAGTTCGCTACACGCAGGACGCTTTTTCACG',\n",
       " 'CGGTAAAGCTGATGGTATTGGCTCTAATTTGTCTAGGAAATAACCGTCAGGATTGACACCCTCCCAATTGTATGTTTTCATGCCTCCAAATCTTGGAGGC']"
      ]
     },
     "execution_count": 60,
     "metadata": {},
     "output_type": "execute_result"
    }
   ],
   "source": [
    "reads[:3]"
   ]
  },
  {
   "cell_type": "code",
   "execution_count": 62,
   "metadata": {
    "scrolled": true
   },
   "outputs": [
    {
     "data": {
      "text/plain": [
       "'GAGTTTTATCGCTTCCATGACGCAGAAGTTAACACTTTCGGATATTTCTGATGAGTCGAAAAATTATCTTGATAAAGCAGGAATTACTACTGCTTGTTTACGAATTAAATCGAAGTGGACTGCTGGCGGAAAATGAGAAAATTCGACCTATCCTTGCGCAGCTCGAGAAGCTCTTACTTTGCGACCTTTCGCCATCAACTAACGATTCTGTCAAAAACTGACGCGTTGGATGAGGAGAAGTGGCTTAATATGCTTGGCACGTTCGTCAAGGACTGGTTTAGATATGAGTCACATTTTGTT'"
      ]
     },
     "execution_count": 62,
     "metadata": {},
     "output_type": "execute_result"
    }
   ],
   "source": [
    "genome[:300]"
   ]
  },
  {
   "cell_type": "code",
   "execution_count": 63,
   "metadata": {
    "scrolled": false
   },
   "outputs": [
    {
     "data": {
      "text/plain": [
       "[4272]"
      ]
     },
     "execution_count": 63,
     "metadata": {},
     "output_type": "execute_result"
    }
   ],
   "source": [
    "r = reads[0]\n",
    "naive(r, genome) #find a match starting at position 4272 of genome "
   ]
  },
  {
   "cell_type": "code",
   "execution_count": 64,
   "metadata": {},
   "outputs": [
    {
     "data": {
      "text/plain": [
       "[]"
      ]
     },
     "execution_count": 64,
     "metadata": {},
     "output_type": "execute_result"
    }
   ],
   "source": [
    "r = 'XXX'\n",
    "naive(r, genome) #not find a match"
   ]
  },
  {
   "cell_type": "markdown",
   "metadata": {},
   "source": [
    "Load the reads for its reference genome. Note: the reference genome is **fa** file while the sequencing reads is **fastq** file.\n",
    "https://d28rh4a8wq0iu5.cloudfront.net/ads1/data/ERR037900_1.first1000.fastq"
   ]
  },
  {
   "cell_type": "code",
   "execution_count": 70,
   "metadata": {},
   "outputs": [],
   "source": [
    "real_reads, _ = readFastq('SRR835775_1.first1000.fastq')"
   ]
  },
  {
   "cell_type": "code",
   "execution_count": 74,
   "metadata": {},
   "outputs": [
    {
     "data": {
      "text/plain": [
       "['TAACCCTAACCCTAACCCTAACCCTAACCCTAACCCTAACCCTAACCCTAACCCTCACCCTAACCCTAACCCTAACCGTATCCGTCACCCTAACCCTAAC',\n",
       " 'TAACCCTAACCCTAACCCTAACCCTAACCCTAACCCTAACCCTAACCCTAACCCTACCCTAACCCTAACCCTAACCCTAACCCTAACCCTAACCCTAACC',\n",
       " 'TAGGGTTAGGGTTAGGGTTAGGGTTAGGGTTAGGGTTAGGGTTAGGGTTAGGGTTAGGGTTAGGGTTAGGGTTAGGGTTAGGGTTAGGGTTAGGGTTAGG']"
      ]
     },
     "execution_count": 74,
     "metadata": {},
     "output_type": "execute_result"
    }
   ],
   "source": [
    "real_reads[:3]"
   ]
  },
  {
   "cell_type": "code",
   "execution_count": 76,
   "metadata": {},
   "outputs": [
    {
     "name": "stdout",
     "output_type": "stream",
     "text": [
      "0 / 1000 reads matched exactly\n"
     ]
    }
   ],
   "source": [
    "numMatched = 0\n",
    "for r in real_reads:\n",
    "    matches = naive(r, genome)\n",
    "    if len(matches) > 0:\n",
    "        numMatched += 1\n",
    "print(\"%d / %d reads matched exactly\" % (numMatched, len(real_reads)))"
   ]
  },
  {
   "cell_type": "code",
   "execution_count": 75,
   "metadata": {},
   "outputs": [
    {
     "name": "stdout",
     "output_type": "stream",
     "text": [
      "0 / 100 reads matched exactly\n"
     ]
    }
   ],
   "source": [
    "numMatched = 0\n",
    "for r in real_reads:\n",
    "    matches = naive(r[:30], genome)\n",
    "    if len(matches) > 0:\n",
    "        numMatched += 1\n",
    "print(\"%d / %d reads matched exactly\" % (numMatched, len(real_reads)))"
   ]
  },
  {
   "cell_type": "markdown",
   "metadata": {},
   "source": [
    "Match the reverse complement of the read to the genome, that'll cover the case where the read comes from the other strand of the genome."
   ]
  },
  {
   "cell_type": "code",
   "execution_count": 66,
   "metadata": {},
   "outputs": [],
   "source": [
    "def reverseComplement(s):\n",
    "    complement = {'A':'T', 'C':'G', 'G': 'C', 'T': 'A', 'N': 'N'}\n",
    "    t = ''\n",
    "    for base in s:\n",
    "        t = complement[base] + t\n",
    "    return t"
   ]
  },
  {
   "cell_type": "code",
   "execution_count": 67,
   "metadata": {},
   "outputs": [
    {
     "ename": "NameError",
     "evalue": "name 'phix_reads' is not defined",
     "output_type": "error",
     "traceback": [
      "\u001b[1;31m---------------------------------------------------------------------------\u001b[0m",
      "\u001b[1;31mNameError\u001b[0m                                 Traceback (most recent call last)",
      "\u001b[1;32m<ipython-input-67-20f60511553a>\u001b[0m in \u001b[0;36m<module>\u001b[1;34m\u001b[0m\n\u001b[0;32m      1\u001b[0m \u001b[0mnumMatched\u001b[0m \u001b[1;33m=\u001b[0m \u001b[1;36m0\u001b[0m\u001b[1;33m\u001b[0m\u001b[1;33m\u001b[0m\u001b[0m\n\u001b[0;32m      2\u001b[0m \u001b[0mn\u001b[0m \u001b[1;33m=\u001b[0m \u001b[1;36m0\u001b[0m\u001b[1;33m\u001b[0m\u001b[1;33m\u001b[0m\u001b[0m\n\u001b[1;32m----> 3\u001b[1;33m \u001b[1;32mfor\u001b[0m \u001b[0mr\u001b[0m \u001b[1;32min\u001b[0m \u001b[0mphix_reads\u001b[0m\u001b[1;33m:\u001b[0m\u001b[1;33m\u001b[0m\u001b[1;33m\u001b[0m\u001b[0m\n\u001b[0m\u001b[0;32m      4\u001b[0m     \u001b[0mr\u001b[0m \u001b[1;33m=\u001b[0m \u001b[0mr\u001b[0m\u001b[1;33m[\u001b[0m\u001b[1;33m:\u001b[0m\u001b[1;36m30\u001b[0m\u001b[1;33m]\u001b[0m\u001b[1;33m\u001b[0m\u001b[1;33m\u001b[0m\u001b[0m\n\u001b[0;32m      5\u001b[0m     \u001b[0mmatches\u001b[0m \u001b[1;33m=\u001b[0m \u001b[0mnaive\u001b[0m\u001b[1;33m(\u001b[0m\u001b[0mr\u001b[0m\u001b[1;33m,\u001b[0m \u001b[0mgenome\u001b[0m\u001b[1;33m)\u001b[0m\u001b[1;33m\u001b[0m\u001b[1;33m\u001b[0m\u001b[0m\n",
      "\u001b[1;31mNameError\u001b[0m: name 'phix_reads' is not defined"
     ]
    }
   ],
   "source": [
    "numMatched = 0\n",
    "n = 0\n",
    "for r in phix_reads:\n",
    "    r = r[:30]\n",
    "    matches = naive(r, genome)\n",
    "    matches.extend(naive(reverseComplement(r), genome))\n",
    "    n += 1\n",
    "    if len(matches) > 0:\n",
    "        numMatched += 1\n",
    "print('%d / %d reads matched the genome' % (numMatched, n))"
   ]
  },
  {
   "cell_type": "markdown",
   "metadata": {},
   "source": [
    "### Programming Homework"
   ]
  },
  {
   "cell_type": "code",
   "execution_count": 10,
   "metadata": {},
   "outputs": [
    {
     "data": {
      "text/plain": [
       "'GGGCGGCGACCTCGCGGGTTTTCGCTATTTATGAAAATTTTCCGGTTTAAGGCGTTTCCGTTCTTCTTCGTCATAACTTAATGTTTTTATTTAAAATACCCTCTGAAAAGAAAGGAAACGACAGGTGCTGAAAGCGAGGCTTTTTGGCCTCTGTCGTTTCCTTTCTCTGTTTTTGTCCGTGGAATGAACAATGGAAGTCA'"
      ]
     },
     "execution_count": 10,
     "metadata": {},
     "output_type": "execute_result"
    }
   ],
   "source": [
    "def readReference(fa):\n",
    "    genome = ''\n",
    "    with open(fa) as f:\n",
    "        for line in f.readlines():\n",
    "            if not line[0] == '>':\n",
    "                # rstrip remove the '\\n' at the end of each line break\n",
    "                genome = genome + line.rstrip()\n",
    "    return genome\n",
    "\n",
    "genome = readReference('lambda_virus.fa')\n",
    "genome[:200]"
   ]
  },
  {
   "cell_type": "code",
   "execution_count": 19,
   "metadata": {},
   "outputs": [
    {
     "data": {
      "text/plain": [
       "306"
      ]
     },
     "execution_count": 19,
     "metadata": {},
     "output_type": "execute_result"
    }
   ],
   "source": [
    "def complementbase(seq):\n",
    "    complement = {'A':'T', 'C':'G', 'G': 'C', 'T': 'A', 'N': 'N'}\n",
    "    seq_out = ''\n",
    "    for b in seq:\n",
    "        seq_out = complement[b] + seq_out \n",
    "    return seq_out\n",
    "\n",
    "def naive(p, t):\n",
    "    index = []\n",
    "    for i in range(len(t) - len(p) + 1):\n",
    "        match = True\n",
    "        for j in range(len(p)):\n",
    "            if not t[i + j] == p[j]:\n",
    "                match = False\n",
    "                break\n",
    "        if match is True:\n",
    "            index.append(i)\n",
    "    return index\n",
    "\n",
    "len(naive('AGGT', genome) + naive(complementbase('AGGT'), genome))"
   ]
  },
  {
   "cell_type": "code",
   "execution_count": 20,
   "metadata": {},
   "outputs": [
    {
     "data": {
      "text/plain": [
       "195"
      ]
     },
     "execution_count": 20,
     "metadata": {},
     "output_type": "execute_result"
    }
   ],
   "source": [
    "len(naive('TTAA', genome))"
   ]
  },
  {
   "cell_type": "code",
   "execution_count": 21,
   "metadata": {},
   "outputs": [
    {
     "data": {
      "text/plain": [
       "27733"
      ]
     },
     "execution_count": 21,
     "metadata": {},
     "output_type": "execute_result"
    }
   ],
   "source": [
    "naive('ACTAAGT', genome)[0]"
   ]
  },
  {
   "cell_type": "code",
   "execution_count": 23,
   "metadata": {},
   "outputs": [
    {
     "data": {
      "text/plain": [
       "[27733, 45382]"
      ]
     },
     "execution_count": 23,
     "metadata": {},
     "output_type": "execute_result"
    }
   ],
   "source": [
    "naive('ACTAAGT', genome)"
   ]
  },
  {
   "cell_type": "code",
   "execution_count": 22,
   "metadata": {},
   "outputs": [
    {
     "data": {
      "text/plain": [
       "26028"
      ]
     },
     "execution_count": 22,
     "metadata": {},
     "output_type": "execute_result"
    }
   ],
   "source": [
    "naive(complementbase('ACTAAGT'), genome)[0]"
   ]
  },
  {
   "cell_type": "code",
   "execution_count": 24,
   "metadata": {},
   "outputs": [
    {
     "data": {
      "text/plain": [
       "18005"
      ]
     },
     "execution_count": 24,
     "metadata": {},
     "output_type": "execute_result"
    }
   ],
   "source": [
    "naive('AGTCGA', genome)[0]"
   ]
  },
  {
   "cell_type": "code",
   "execution_count": 25,
   "metadata": {},
   "outputs": [
    {
     "data": {
      "text/plain": [
       "450"
      ]
     },
     "execution_count": 25,
     "metadata": {},
     "output_type": "execute_result"
    }
   ],
   "source": [
    "naive(complementbase('AGTCGA'), genome)[0]"
   ]
  },
  {
   "cell_type": "code",
   "execution_count": 28,
   "metadata": {},
   "outputs": [
    {
     "data": {
      "text/plain": [
       "191"
      ]
     },
     "execution_count": 28,
     "metadata": {},
     "output_type": "execute_result"
    }
   ],
   "source": [
    "def naive_2mm(p, t):\n",
    "    index = []\n",
    "    for i in range(len(t) - len(p) + 1):\n",
    "        match = True\n",
    "        counter = 0\n",
    "        for j in range(len(p)):\n",
    "            if not t[i + j] == p[j]:\n",
    "                counter += 1\n",
    "            if counter > 2:\n",
    "                match = False\n",
    "                break\n",
    "        if match is True:\n",
    "            index.append(i)\n",
    "    return index\n",
    "\n",
    "len(naive_2mm('TTCAAGCC', genome))"
   ]
  },
  {
   "cell_type": "code",
   "execution_count": 30,
   "metadata": {},
   "outputs": [
    {
     "data": {
      "text/plain": [
       "49"
      ]
     },
     "execution_count": 30,
     "metadata": {},
     "output_type": "execute_result"
    }
   ],
   "source": [
    "naive_2mm('AGGAGGTT', genome)[0]"
   ]
  },
  {
   "cell_type": "code",
   "execution_count": 38,
   "metadata": {},
   "outputs": [],
   "source": [
    "def readGenome(fastq):\n",
    "    readseq = []\n",
    "    readscore = []\n",
    "    with open('ERR037900_1.first1000.fastq') as f:\n",
    "        while True:\n",
    "            f.readline()\n",
    "            seq = f.readline().rstrip()\n",
    "            readseq.append(seq)\n",
    "            f.readline()\n",
    "            score = f.readline().rstrip()\n",
    "            readscore.append(score)\n",
    "            if len(seq) == 0:\n",
    "                break\n",
    "    return readseq, readscore\n",
    "\n",
    "seq, score = readGenome('ERR037900_1.first1000.fastq')"
   ]
  },
  {
   "cell_type": "code",
   "execution_count": 41,
   "metadata": {},
   "outputs": [
    {
     "data": {
      "text/plain": [
       "1001"
      ]
     },
     "execution_count": 41,
     "metadata": {},
     "output_type": "execute_result"
    }
   ],
   "source": [
    "len(score)"
   ]
  },
  {
   "cell_type": "code",
   "execution_count": 40,
   "metadata": {},
   "outputs": [
    {
     "data": {
      "text/plain": [
       "100"
      ]
     },
     "execution_count": 40,
     "metadata": {},
     "output_type": "execute_result"
    }
   ],
   "source": [
    "len(score[0])"
   ]
  },
  {
   "cell_type": "code",
   "execution_count": 48,
   "metadata": {
    "scrolled": true
   },
   "outputs": [],
   "source": [
    "def phred33ToQ(i):\n",
    "    return ord(i) - 33"
   ]
  },
  {
   "cell_type": "code",
   "execution_count": 56,
   "metadata": {},
   "outputs": [
    {
     "data": {
      "text/plain": [
       "[<matplotlib.lines.Line2D at 0x27502b45c50>]"
      ]
     },
     "execution_count": 56,
     "metadata": {},
     "output_type": "execute_result"
    },
    {
     "data": {
      "image/png": "[encoded data removed]",
      "text/plain": [
       "<Figure size 432x288 with 1 Axes>"
      ]
     },
     "metadata": {
      "needs_background": "light"
     },
     "output_type": "display_data"
    }
   ],
   "source": [
    "%matplotlib inline\n",
    "import matplotlib.pyplot as plt\n",
    "\n",
    "def averageScore(score_list):\n",
    "    len_a = len(score_list)\n",
    "    len_b = len(score_list[0])\n",
    "    score_output = [0] * len_b\n",
    "    for i in score_list:\n",
    "        for index, value in enumerate(i):\n",
    "            score_output[index] = score_output[index] + phred33ToQ(value)\n",
    "    return [s / len_a for s in score_output]\n",
    "\n",
    "plt.plot(averageScore(score))"
   ]
  },
  {
   "cell_type": "code",
   "execution_count": 58,
   "metadata": {},
   "outputs": [
    {
     "name": "stdout",
     "output_type": "stream",
     "text": [
      "0 38.396603396603396\n",
      "1 38.421578421578424\n",
      "2 38.36163836163836\n",
      "3 38.38961038961039\n",
      "4 38.37862137862138\n",
      "5 38.34365634365634\n",
      "6 38.323676323676324\n",
      "7 38.32567432567433\n",
      "8 38.28671328671329\n",
      "9 38.30469530469531\n",
      "10 38.15584415584416\n",
      "11 38.115884115884114\n",
      "12 38.05094905094905\n",
      "13 38.11388611388612\n",
      "14 38.11488511488511\n",
      "15 38.06093906093906\n",
      "16 38.01698301698302\n",
      "17 38.002997002997006\n",
      "18 38.02897102897103\n",
      "19 38.11188811188811\n",
      "20 38.04895104895105\n",
      "21 37.95104895104895\n",
      "22 37.97102897102897\n",
      "23 37.871128871128874\n",
      "24 37.99000999000999\n",
      "25 37.53846153846154\n",
      "26 37.476523476523475\n",
      "27 37.46553446553447\n",
      "28 37.54045954045954\n",
      "29 37.514485514485514\n",
      "30 37.591408591408594\n",
      "31 37.51748251748252\n",
      "32 37.51048951048951\n",
      "33 37.395604395604394\n",
      "34 37.36463536463536\n",
      "35 37.3056943056943\n",
      "36 37.16083916083916\n",
      "37 37.08891108891109\n",
      "38 37.120879120879124\n",
      "39 36.86713286713287\n",
      "40 36.705294705294705\n",
      "41 36.64035964035964\n",
      "42 36.60839160839161\n",
      "43 36.45654345654346\n",
      "44 36.472527472527474\n",
      "45 36.33866133866134\n",
      "46 36.16883116883117\n",
      "47 35.938061938061935\n",
      "48 35.81118881118881\n",
      "49 35.637362637362635\n",
      "50 34.7972027972028\n",
      "51 34.7042957042957\n",
      "52 34.36463536463536\n",
      "53 34.36763236763237\n",
      "54 33.99100899100899\n",
      "55 32.99200799200799\n",
      "56 32.84915084915085\n",
      "57 32.70829170829171\n",
      "58 32.54045954045954\n",
      "59 32.19180819180819\n",
      "60 30.774225774225773\n",
      "61 30.635364635364635\n",
      "62 30.312687312687313\n",
      "63 30.100899100899102\n",
      "64 29.433566433566433\n",
      "65 17.873126873126875\n",
      "66 4.521478521478522\n",
      "67 17.863136863136862\n",
      "68 17.84715284715285\n",
      "69 17.834165834165834\n",
      "70 17.44855144855145\n",
      "71 17.113886113886114\n",
      "72 17.116883116883116\n",
      "73 17.08091908091908\n",
      "74 16.835164835164836\n",
      "75 23.721278721278722\n",
      "76 23.934065934065934\n",
      "77 23.197802197802197\n",
      "78 22.87912087912088\n",
      "79 22.343656343656345\n",
      "80 20.883116883116884\n",
      "81 20.563436563436564\n",
      "82 20.36263736263736\n",
      "83 19.747252747252748\n",
      "84 19.075924075924075\n",
      "85 18.042957042957042\n",
      "86 17.73926073926074\n",
      "87 17.134865134865134\n",
      "88 16.955044955044954\n",
      "89 16.26973026973027\n",
      "90 14.796203796203796\n",
      "91 14.664335664335665\n",
      "92 14.295704295704295\n",
      "93 14.137862137862138\n",
      "94 13.72027972027972\n",
      "95 12.525474525474525\n",
      "96 12.265734265734265\n",
      "97 12.166833166833166\n",
      "98 11.664335664335665\n",
      "99 11.54945054945055\n"
     ]
    }
   ],
   "source": [
    "for i, v in enumerate(averageScore(score)):\n",
    "    print(i, v)"
   ]
  }
 ],
 "metadata": {
  "kernelspec": {
   "display_name": "Python 3",
   "language": "python",
   "name": "python3"
  },
  "language_info": {
   "codemirror_mode": {
    "name": "ipython",
    "version": 3
   },
   "file_extension": ".py",
   "mimetype": "text/x-python",
   "name": "python",
   "nbconvert_exporter": "python",
   "pygments_lexer": "ipython3",
   "version": "3.7.1"
  }
 },
 "nbformat": 4,
 "nbformat_minor": 2
}
