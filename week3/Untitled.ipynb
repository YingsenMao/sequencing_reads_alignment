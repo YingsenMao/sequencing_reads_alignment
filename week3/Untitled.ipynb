{
 "cells": [
  {
   "cell_type": "markdown",
   "metadata": {},
   "source": [
    "### Find a edit distance using dynamic programming\n",
    "seq1: alpha * C (...BSDFDC)  \n",
    "seq2: beta * A (...GEFDSA)  \n",
    "*note: the alpha and belta is the prefix of the two sequences without the last base*\n",
    "\n",
    "**edist(alpha * C, beta * A) = min(edist(alpha, beta) + 1, edist(alpha * C, beta) + 1, edist(alpha, beta * A) + 1)**\n",
    "\n",
    "The edit distance of seq1 and seq2 is the **minimum** of:\n",
    "1. edit distance of the prefix of the seq1 and seq2 and do a **substitution**  \n",
    "2. edit distance of seq1 and the prefix of seq2 and **insert** A at the end of seq1  \n",
    "2. edit distance of seq2 and the prefix of seq1 and **insert** C at the end of seq2  \n",
    "\n",
    "The principle can be generalized into:  \n",
    "  \n",
    "seq1: alpha * X  \n",
    "seq2: beta * Y  \n",
    "  \n",
    "**edist(alpha * X, belta * Y) = min(edist(alpha, belta) + delta(X, Y), edist(alpha * X, belta) + 1, edist(alpha, belta * Y) + 1)  \n",
    "where delta(X, Y) = 0 if X = Y, or 1 otherwise**"
   ]
  },
  {
   "cell_type": "code",
   "execution_count": 10,
   "metadata": {},
   "outputs": [],
   "source": [
    "def editdis(t, p):\n",
    "    D = []\n",
    "    for i in range(len(p) + 1):\n",
    "        D.append([0] * (len(t) + 1))\n",
    "    \n",
    "    for i in range(len(p) + 1):\n",
    "        for j in range(len(t) + 1):\n",
    "            if i == 0:\n",
    "                D[i][j] = j\n",
    "            elif j == 0:\n",
    "                D[i][j] = i\n",
    "                \n",
    "    for i in range(1, len(p) + 1):\n",
    "        for j in range(1, len(t) + 1):       \n",
    "            x = D[i-1][j] + 1\n",
    "            y = D[i][j-1] + 1\n",
    "            if p[i-1] == t[j-1]:\n",
    "                z = D[i-1][j-1]\n",
    "            else:\n",
    "                z = D[i-1][j-1] + 1\n",
    "            D[i][j] = min(x, y, z)\n",
    "    return D[-1][-1]"
   ]
  },
  {
   "cell_type": "code",
   "execution_count": 12,
   "metadata": {},
   "outputs": [
    {
     "data": {
      "text/plain": [
       "3"
      ]
     },
     "execution_count": 12,
     "metadata": {},
     "output_type": "execute_result"
    }
   ],
   "source": [
    "#    *substitution of 's' with 'S'\n",
    "#         *insert a ' ' in y\n",
    "#              *insert a 'r' in x  \n",
    "x = 'shake spea'\n",
    "y = 'Shakespear'\n",
    "editdis(x, y)"
   ]
  },
  {
   "cell_type": "markdown",
   "metadata": {},
   "source": [
    "The computation time of dynamic programming is proportional to the number of characters of P times the number of characters of T, while the computation time of booyer-moore is proportional to the length of T. However, booyer-moore can only do exact matching."
   ]
  }
 ],
 "metadata": {
  "kernelspec": {
   "display_name": "Python 3",
   "language": "python",
   "name": "python3"
  },
  "language_info": {
   "codemirror_mode": {
    "name": "ipython",
    "version": 3
   },
   "file_extension": ".py",
   "mimetype": "text/x-python",
   "name": "python",
   "nbconvert_exporter": "python",
   "pygments_lexer": "ipython3",
   "version": "3.7.1"
  }
 },
 "nbformat": 4,
 "nbformat_minor": 2
}
