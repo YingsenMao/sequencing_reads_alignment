{
 "cells": [
  {
   "cell_type": "code",
   "execution_count": null,
   "metadata": {},
   "outputs": [],
   "source": []
  },
  {
   "cell_type": "markdown",
   "metadata": {},
   "source": [
    "seq1: alpha * C (...BSDFDC)  \n",
    "seq2: belta * A (...GEFDSA)  \n",
    "*note: the alpha and belta is the prefix of the two sequences without the last base*\n",
    "\n",
    "edist(alpha * C, belta * A) = min(edist(alpha, belta) + 1, edist(alpha * C, belta) + 1, edist(alpha, belta * A) + 1)\n",
    "\n",
    "The edit distance of seq1 and seq2 is the **minimum** of:\n",
    "1. edit distance of the prefix of the seq1 and seq2 with the SUBSTITUTION of last base  \n",
    "2. edit distance of seq1 and the prefix of seq2 with the INERTION of last base from seq2  \n",
    "2. edit distance of seq2 and the prefix of seq1 with the INERTION of last base from seq1  "
   ]
  }
 ],
 "metadata": {
  "kernelspec": {
   "display_name": "Python 3",
   "language": "python",
   "name": "python3"
  },
  "language_info": {
   "codemirror_mode": {
    "name": "ipython",
    "version": 3
   },
   "file_extension": ".py",
   "mimetype": "text/x-python",
   "name": "python",
   "nbconvert_exporter": "python",
   "pygments_lexer": "ipython3",
   "version": "3.7.1"
  }
 },
 "nbformat": 4,
 "nbformat_minor": 2
}
