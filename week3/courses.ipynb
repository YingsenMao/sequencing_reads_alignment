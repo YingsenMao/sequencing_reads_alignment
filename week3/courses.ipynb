{
 "cells": [
  {
   "cell_type": "markdown",
   "metadata": {},
   "source": [
    "### Calculate edit distance between two sequences using dynamic programming\n",
    "seq1: alpha * C (...BSDFDC)  \n",
    "seq2: beta * A (...GEFDSA)  \n",
    "*note: the alpha and belta is the prefix of the two sequences without the last base*\n",
    "\n",
    "**edist(alpha * C, beta * A) = min(edist(alpha, beta) + 1, edist(alpha * C, beta) + 1, edist(alpha, beta * A) + 1)**\n",
    "\n",
    "The edit distance of seq1 and seq2 is the **minimum** of:\n",
    "1. edit distance of the prefix of the seq1 and seq2 and do a **substitution**  \n",
    "2. edit distance of seq1 and the prefix of seq2 and **insert** A at the end of seq1  \n",
    "2. edit distance of seq2 and the prefix of seq1 and **insert** C at the end of seq2  \n",
    "\n",
    "The principle can be generalized into:  \n",
    "  \n",
    "seq1: alpha * X  \n",
    "seq2: beta * Y  \n",
    "  \n",
    "**edist(alpha * X, belta * Y) = min(edist(alpha, belta) + delta(X, Y), edist(alpha * X, belta) + 1, edist(alpha, belta * Y) + 1)  \n",
    "where delta(X, Y) = 0 if X = Y, or 1 otherwise**"
   ]
  },
  {
   "cell_type": "code",
   "execution_count": 10,
   "metadata": {},
   "outputs": [],
   "source": [
    "def editdis(t, p):\n",
    "    D = []\n",
    "    for i in range(len(p) + 1):\n",
    "        D.append([0] * (len(t) + 1))\n",
    "    \n",
    "    for i in range(len(p) + 1):\n",
    "        for j in range(len(t) + 1):\n",
    "            if i == 0:\n",
    "                D[i][j] = j\n",
    "            elif j == 0:\n",
    "                D[i][j] = i\n",
    "                \n",
    "    for i in range(1, len(p) + 1):\n",
    "        for j in range(1, len(t) + 1):       \n",
    "            x = D[i-1][j] + 1\n",
    "            y = D[i][j-1] + 1\n",
    "            if p[i-1] == t[j-1]:\n",
    "                z = D[i-1][j-1]\n",
    "            else:\n",
    "                z = D[i-1][j-1] + 1\n",
    "            D[i][j] = min(x, y, z)\n",
    "    return D[-1][-1]"
   ]
  },
  {
   "cell_type": "code",
   "execution_count": 12,
   "metadata": {},
   "outputs": [
    {
     "data": {
      "text/plain": [
       "3"
      ]
     },
     "execution_count": 12,
     "metadata": {},
     "output_type": "execute_result"
    }
   ],
   "source": [
    "#    *substitution of 's' with 'S'\n",
    "#         *insert a ' ' in y\n",
    "#              *insert a 'r' in x  \n",
    "x = 'shake spea'\n",
    "y = 'Shakespear'\n",
    "editdis(x, y)"
   ]
  },
  {
   "cell_type": "markdown",
   "metadata": {},
   "source": [
    "### Edit distance for approximate matching\n",
    "Using the characters of T as columns and the characters of P as rows of the matrix. Because P can be matched at any postion in T, the first row of the matrix is 0. The minimal value in the bottom row is the edit distance of the closest match between P and T"
   ]
  },
  {
   "cell_type": "markdown",
   "metadata": {},
   "source": [
    "The computation time of dynamic programming is proportional to the number of characters of P times the number of characters of T, while the computation time of booyer-moore is proportional to the length of T, and more skips will be available if there is longer P. However, booyer-moore can only do exact matching."
   ]
  },
  {
   "cell_type": "markdown",
   "metadata": {},
   "source": [
    "### Global alignment   vs. Local alignment \n",
    "Differences are:\n",
    "1. Global alignment is **end-to-end** alignment that is made to the **entire** string, while local alignment finds the **substrings** of the sequences with highest similiarities **without considering the rest of sequences.**    \n",
    "2. Global alignment compares **homologous sequences such same genes or proteins**, while local alignment is suitable for aligning more **divergent sequences or distantly related sequences**.  \n",
    "3. Dynamic programming algorithms Needleman-Wunsch and Smith-Waterman are appropriate for global alignment and local alignment respectively. The score tracking starts from **bottom right corner** for Needleman-Wunsch while starts **position with highest score** for local alignment.  \n",
    "\n",
    "find the most similar substring pairs of substring of x and y."
   ]
  },
  {
   "cell_type": "code",
   "execution_count": 7,
   "metadata": {
    "scrolled": true
   },
   "outputs": [
    {
     "data": {
      "text/plain": [
       "1"
      ]
     },
     "execution_count": 7,
     "metadata": {},
     "output_type": "execute_result"
    }
   ],
   "source": [
    "alphabet = ['A', 'C', 'T', 'G']\n",
    "score = [[0, 4, 2, 4, 8],\n",
    "         [4, 0, 4, 2, 8],  \n",
    "         [2, 4, 0, 4, 8],  \n",
    "         [4, 2, 4, 0, 8],\n",
    "         [8, 8, 8, 8, 8]]\n",
    "alphabet.index('C')"
   ]
  },
  {
   "cell_type": "code",
   "execution_count": 28,
   "metadata": {},
   "outputs": [],
   "source": [
    "def globalAlignment(seq1, seq2):\n",
    "    D = []\n",
    "    for i in range(len(seq1) + 1):        #note: seq1 with become number of rows \n",
    "        D.append([0] * (len(seq2) + 1))   #note: seq2 with become number of columns\n",
    "    \n",
    "    for i in range(1, len(seq1) + 1):\n",
    "        D[i][0] = D[i-1][0] + score[alphabet.index(seq1[i-1])][-1]\n",
    "    for i in range(1, len(seq2) + 1):\n",
    "        D[0][i] = D[0][i-1] + score[-1][alphabet.index(seq2[i-1])]\n",
    "                \n",
    "    for i in range(1, len(seq1) + 1):\n",
    "        for j in range(1, len(seq2) + 1):       \n",
    "            horScore = D[i-1][j] + score[alphabet.index(seq1[i-1])][-1]\n",
    "            verScore = D[i][j-1] + score[-1][alphabet.index(seq2[j-1])]\n",
    "            if seq1[i-1] == seq2[j-1]:\n",
    "                diagScore = D[i-1][j-1]\n",
    "            else:\n",
    "                diagScore = D[i-1][j-1] + score[alphabet.index(seq1[i-1])][alphabet.index(seq2[j-1])]\n",
    "            D[i][j] = min(horScore, verScore, diagScore)\n",
    "    return D[-1][-1]"
   ]
  },
  {
   "cell_type": "code",
   "execution_count": 29,
   "metadata": {},
   "outputs": [
    {
     "name": "stdout",
     "output_type": "stream",
     "text": [
      "12\n"
     ]
    }
   ],
   "source": [
    "# 10 * 11\n",
    "x = 'TATGTCATGC'\n",
    "y = 'TATGGCAGC'\n",
    "print(globalAlignment(x,y))\n"
   ]
  },
  {
   "cell_type": "markdown",
   "metadata": {},
   "source": [
    "Indexing works like a filter for exact match problems but doesn't deal very well with mismatches and gaps. Dynamic programming, on the the hand, is suitable for finding mismatches but is very slow for long reference sequences such as human DNA.  \n",
    "In order to achieve efficient approximate matching, the combination of indexing and dynamic programming is a solution."
   ]
  },
  {
   "cell_type": "markdown",
   "metadata": {},
   "source": [
    "### Overlap graphs"
   ]
  },
  {
   "cell_type": "code",
   "execution_count": 50,
   "metadata": {},
   "outputs": [],
   "source": [
    "def overlap(a, b, min_op = 3):\n",
    "    lg = min(len(a), len(b))\n",
    "    lap = []\n",
    "    while min_op < lg:\n",
    "        a_s = a[-min_op:]\n",
    "        b_p = b[:min_op]\n",
    "        if a_s == b_p:\n",
    "            lap.append(min_op)\n",
    "        min_op += 1\n",
    "    return lap\n"
   ]
  },
  {
   "cell_type": "code",
   "execution_count": 53,
   "metadata": {},
   "outputs": [
    {
     "data": {
      "text/plain": [
       "[6]"
      ]
     },
     "execution_count": 53,
     "metadata": {},
     "output_type": "execute_result"
    }
   ],
   "source": [
    "overlap('TTACGTAGC', 'CGTAGCTGC')"
   ]
  },
  {
   "cell_type": "code",
   "execution_count": 61,
   "metadata": {
    "scrolled": true
   },
   "outputs": [
    {
     "data": {
      "text/plain": [
       "5"
      ]
     },
     "execution_count": 61,
     "metadata": {},
     "output_type": "execute_result"
    }
   ],
   "source": [
    "test1 = 'TTACGTAGC'\n",
    "test2 = 'CGTAGCTGC'\n",
    "test1.find('TAG', 6) # return -1\n",
    "test1.find('TAG', 3) # return 5, same as test1.find('TAG')"
   ]
  },
  {
   "cell_type": "code",
   "execution_count": 63,
   "metadata": {},
   "outputs": [
    {
     "data": {
      "text/plain": [
       "True"
      ]
     },
     "execution_count": 63,
     "metadata": {},
     "output_type": "execute_result"
    }
   ],
   "source": [
    "test1.startswith('TTA')"
   ]
  },
  {
   "cell_type": "code",
   "execution_count": 83,
   "metadata": {},
   "outputs": [],
   "source": [
    "def overlap2(seq1, seq2, min_op = 3):\n",
    "    start = 0\n",
    "    while True:\n",
    "        # find the position \"start\" in seq1 where prefix of seq2 matches \n",
    "        # substrings of a starting at that postion\n",
    "        start = seq1.find(seq2[:min_op], start)\n",
    "        if start == -1:\n",
    "            return 0\n",
    "        # verify the rest of string after the postion \"start\" matches the prefix of seq2, which means \n",
    "        # the suffix of seq1 matches the prefix of seq2\n",
    "        if seq2.startswith(seq1[start:]):\n",
    "            return len(seq1) - start\n",
    "        start += 1"
   ]
  },
  {
   "cell_type": "code",
   "execution_count": 84,
   "metadata": {},
   "outputs": [
    {
     "name": "stdout",
     "output_type": "stream",
     "text": [
      "3\n"
     ]
    }
   ],
   "source": [
    "reslt = overlap2('TTACGT', 'CGTGTGC')\n",
    "print(reslt)"
   ]
  },
  {
   "cell_type": "code",
   "execution_count": 85,
   "metadata": {},
   "outputs": [
    {
     "data": {
      "text/plain": [
       "[(1, 2), (1, 3), (2, 1), (2, 3), (3, 1), (3, 2)]"
      ]
     },
     "execution_count": 85,
     "metadata": {},
     "output_type": "execute_result"
    }
   ],
   "source": [
    "from itertools import permutations\n",
    "list(permutations([1,2, 3], 2))"
   ]
  },
  {
   "cell_type": "code",
   "execution_count": 86,
   "metadata": {},
   "outputs": [],
   "source": [
    "def naive_overlap_map(reads, k):\n",
    "    olaps = {}\n",
    "    for a, b in permutations(reads, 2):\n",
    "        olen = overlap2(a, b, min_op=k)\n",
    "        if olen > 0:\n",
    "            olaps[(a, b)] = olen\n",
    "    return olaps"
   ]
  },
  {
   "cell_type": "code",
   "execution_count": 87,
   "metadata": {},
   "outputs": [
    {
     "name": "stdout",
     "output_type": "stream",
     "text": [
      "{('ACGGATC', 'GATCAAGT'): 4, ('TTCACGGA', 'ACGGATC'): 5}\n"
     ]
    }
   ],
   "source": [
    "reads = ['ACGGATC', 'GATCAAGT', 'TTCACGGA']\n",
    "print(naive_overlap_map(reads, 3))"
   ]
  },
  {
   "cell_type": "code",
   "execution_count": null,
   "metadata": {},
   "outputs": [],
   "source": []
  }
 ],
 "metadata": {
  "kernelspec": {
   "display_name": "Python 3",
   "language": "python",
   "name": "python3"
  },
  "language_info": {
   "codemirror_mode": {
    "name": "ipython",
    "version": 3
   },
   "file_extension": ".py",
   "mimetype": "text/x-python",
   "name": "python",
   "nbconvert_exporter": "python",
   "pygments_lexer": "ipython3",
   "version": "3.7.1"
  }
 },
 "nbformat": 4,
 "nbformat_minor": 2
}
